{
 "cells": [
  {
   "cell_type": "code",
   "execution_count": 12,
   "metadata": {
    "collapsed": true
   },
   "outputs": [],
   "source": [
    "import numpy as np"
   ]
  },
  {
   "cell_type": "code",
   "execution_count": 6,
   "metadata": {
    "collapsed": false
   },
   "outputs": [],
   "source": [
    "file = open('tasks_1-20_v1-2/en/qa1_single-supporting-fact_train.txt','r')"
   ]
  },
  {
   "cell_type": "code",
   "execution_count": 8,
   "metadata": {
    "collapsed": false
   },
   "outputs": [],
   "source": [
    "text = file.read()"
   ]
  },
  {
   "cell_type": "code",
   "execution_count": 25,
   "metadata": {
    "collapsed": true
   },
   "outputs": [],
   "source": [
    "\n",
    "def read_file(file):\n",
    "    # train_x = []\n",
    "    train = []\n",
    "\n",
    "    for line in filename:\n",
    "        # story = []\n",
    "        line = line.strip()\n",
    "        idx, line = line.split(' ', 1)\n",
    "        line = line.replace('.', ' . ')\n",
    "        if (idx == 1):\n",
    "            story = []\n",
    "\n",
    "        if \"\\t\" in line:\n",
    "            q, a = line.split(\"\\t\", 1)\n",
    "            a, ida = a.split(' ', 1)\n",
    "            train.append((q, a, story))\n",
    "\n",
    "        else:\n",
    "            substory = line.split(' ')\n",
    "            story.append(substory)\n",
    "\n",
    "    return train\n",
    "\n",
    "\n",
    "def read(filename):\n",
    "    file = open(filename)\n",
    "    read_file(file.read())\n",
    "\n",
    "\n",
    "def load_glove(dim):\n",
    "    glove = {}\n",
    "    with open(\"glove.6B/glove.6B.\"+str(dim) + \"d.txt\") as file:\n",
    "        for line in file:\n",
    "            l = line.split()\n",
    "            glove[l[0]] = map(float,l[1:])\n",
    "\n",
    "    print \"loaded glove vectors\"\n",
    "    return glove\n",
    "    \n",
    "\n",
    "        \n",
    "        "
   ]
  },
  {
   "cell_type": "code",
   "execution_count": 29,
   "metadata": {
    "collapsed": false
   },
   "outputs": [
    {
     "name": "stdout",
     "output_type": "stream",
     "text": [
      "loaded glove vectors\n"
     ]
    }
   ],
   "source": [
    "word2vec = load_glove(50)\n"
   ]
  },
  {
   "cell_type": "code",
   "execution_count": 28,
   "metadata": {
    "collapsed": false
   },
   "outputs": [
    {
     "data": {
      "text/plain": [
       "[0.418,\n",
       " 0.24968,\n",
       " -0.41242,\n",
       " 0.1217,\n",
       " 0.34527,\n",
       " -0.044457,\n",
       " -0.49688,\n",
       " -0.17862,\n",
       " -0.00066023,\n",
       " -0.6566,\n",
       " 0.27843,\n",
       " -0.14767,\n",
       " -0.55677,\n",
       " 0.14658,\n",
       " -0.0095095,\n",
       " 0.011658,\n",
       " 0.10204,\n",
       " -0.12792,\n",
       " -0.8443,\n",
       " -0.12181,\n",
       " -0.016801,\n",
       " -0.33279,\n",
       " -0.1552,\n",
       " -0.23131,\n",
       " -0.19181,\n",
       " -1.8823,\n",
       " -0.76746,\n",
       " 0.099051,\n",
       " -0.42125,\n",
       " -0.19526,\n",
       " 4.0071,\n",
       " -0.18594,\n",
       " -0.52287,\n",
       " -0.31681,\n",
       " 0.00059213,\n",
       " 0.0074449,\n",
       " 0.17778,\n",
       " -0.15897,\n",
       " 0.012041,\n",
       " -0.054223,\n",
       " -0.29871,\n",
       " -0.15749,\n",
       " -0.34758,\n",
       " -0.045637,\n",
       " -0.44251,\n",
       " 0.18785,\n",
       " 0.0027849,\n",
       " -0.18411,\n",
       " -0.11514,\n",
       " -0.78581]"
      ]
     },
     "execution_count": 28,
     "metadata": {},
     "output_type": "execute_result"
    }
   ],
   "source": []
  }
 ],
 "metadata": {
  "kernelspec": {
   "display_name": "Python 2",
   "language": "python",
   "name": "python2"
  },
  "language_info": {
   "codemirror_mode": {
    "name": "ipython",
    "version": 2
   },
   "file_extension": ".py",
   "mimetype": "text/x-python",
   "name": "python",
   "nbconvert_exporter": "python",
   "pygments_lexer": "ipython2",
   "version": "2.7.6"
  }
 },
 "nbformat": 4,
 "nbformat_minor": 0
}
