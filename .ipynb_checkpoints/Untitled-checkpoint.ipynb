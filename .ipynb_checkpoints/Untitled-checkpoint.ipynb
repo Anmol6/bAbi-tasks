{
 "cells": [
  {
   "cell_type": "code",
   "execution_count": 1,
   "metadata": {
    "collapsed": true
   },
   "outputs": [],
   "source": [
    "import numpy as np"
   ]
  },
  {
   "cell_type": "code",
   "execution_count": 6,
   "metadata": {
    "collapsed": false
   },
   "outputs": [],
   "source": [
    "file = open('tasks_1-20_v1-2/en/qa1_single-supporting-fact_train.txt','r')"
   ]
  },
  {
   "cell_type": "code",
   "execution_count": 8,
   "metadata": {
    "collapsed": false
   },
   "outputs": [],
   "source": [
    "text = file.read()"
   ]
  },
  {
   "cell_type": "code",
   "execution_count": null,
   "metadata": {
    "collapsed": true
   },
   "outputs": [],
   "source": [
    "class get_data(object):\n",
    "    \n",
    "    \n",
    "      \n",
    "        \n",
    "    def read_train(file):\n",
    "        #train_x = []\n",
    "        train =[]\n",
    "        \n",
    "        for line in filename:\n",
    "            #story = []\n",
    "            line=line.strip()\n",
    "            idx, line = line.split(' ', 1)\n",
    "            line = line.replace('.', ' . ')\n",
    "            if (idx==1):\n",
    "                story = []\n",
    "            \n",
    "            if \"\\t\" in line:\n",
    "                q, a = line.split(\"\\t\",1)\n",
    "                a, ida = a.split(' ',1)                \n",
    "                train.append((q,a,story))\n",
    "                \n",
    "            else:                \n",
    "                substory = line.split(' ')\n",
    "                story.append(substory)               \n",
    "                \n",
    "            \n",
    "        return train       \n",
    "                \n",
    "                \n",
    "                \n",
    "        \n",
    "    \n",
    "\n",
    "\n",
    "\n",
    "    def read_data(filename):\n",
    "        file = open(filename)\n",
    "        if filename.endswith(\"test.txt\"):\n",
    "            read_test(file.read())\n",
    "            \n",
    "    \n",
    "        else if filename.endswith(\"train.txt\"):\n",
    "            read_train(file.read())\n",
    "        "
   ]
  },
  {
   "cell_type": "code",
   "execution_count": 3,
   "metadata": {
    "collapsed": false
   },
   "outputs": [
    {
     "data": {
      "text/plain": [
       "True"
      ]
     },
     "execution_count": 3,
     "metadata": {},
     "output_type": "execute_result"
    }
   ],
   "source": []
  }
 ],
 "metadata": {
  "kernelspec": {
   "display_name": "Python 2",
   "language": "python",
   "name": "python2"
  },
  "language_info": {
   "codemirror_mode": {
    "name": "ipython",
    "version": 2
   },
   "file_extension": ".py",
   "mimetype": "text/x-python",
   "name": "python",
   "nbconvert_exporter": "python",
   "pygments_lexer": "ipython2",
   "version": "2.7.6"
  }
 },
 "nbformat": 4,
 "nbformat_minor": 0
}
